{
 "cells": [
  {
   "cell_type": "markdown",
   "metadata": {},
   "source": [
    "# Fetching HTML with requests\n",
    "\n",
    "The first step when you're scraping a web site is to request a copy of the page from the server where it lives -- that's the first thing that happens when you type the URL into a browser. But in this case, we're not going to _render_ the HTML in a browser -- we're going to (eventually) parse it and extract that sweet, sweet data.\n",
    "\n",
    "To accomplish this, we're going to use a popular third-party Python library called [requests](http://docs.python-requests.org/en/master/), which has become the de facto standard for making HTTP requests in Python.\n",
    "\n",
    "First, we need to import the requests library (you'll only need to do this once):"
   ]
  },
  {
   "cell_type": "code",
   "execution_count": 1,
   "metadata": {},
   "outputs": [],
   "source": []
  },
  {
   "cell_type": "markdown",
   "metadata": {},
   "source": [
    "Now that we've imported the library, we can use its functionality. Specifically, we're going to use its `get()` method to, well, get a web page. Let's start with the Texas death row offenders page -- notice that we're surrounding the URL in single quotes, because the `get()` method expects a URL as text (a _string_, to use the lingo).\n",
    "\n",
    "`'https://www.tdcj.texas.gov/death_row/dr_offenders_on_dr.html'`\n",
    "\n",
    "And as we do this, we're also going to save the results of the operation as a _variable_ that we can access later. Variable names can be pretty much anything, but it's usually best to name them something that describes the value they're holding on to. So in this case, I'll call my variable `deathrow_page`.\n",
    "\n",
    "👉For more information on strings and variable assignment, [see this notebook](../_Python%20syntax%20cheat%20sheet.ipynb)."
   ]
  },
  {
   "cell_type": "code",
   "execution_count": 10,
   "metadata": {},
   "outputs": [],
   "source": [
    "# fetch the death row page\n"
   ]
  },
  {
   "cell_type": "markdown",
   "metadata": {},
   "source": [
    "The requests object has a lot of potentially useful stuff, but for now we're just interested in the `.text` attribute, which in this case is the page's HTML -- same as if we'd done `view-source` in a browser."
   ]
  },
  {
   "cell_type": "code",
   "execution_count": null,
   "metadata": {
    "scrolled": true
   },
   "outputs": [],
   "source": [
    "# have a look at the .text attribute\n"
   ]
  },
  {
   "cell_type": "markdown",
   "metadata": {},
   "source": [
    "## Your turn\n",
    "\n",
    "In groups, practice fetching the HTML for these pages:\n",
    "- https://www.newportbeachca.gov\n",
    "- https://www.texasagriculture.gov/Portals/0/Reports/PIR/certified_lead_burn_instructors.html\n",
    "- https://web.archive.org/web/20031202214318/http://www.tdcj.state.tx.us:80/stat/finalmeals.htm"
   ]
  }
 ],
 "metadata": {
  "kernelspec": {
   "display_name": "Python 3",
   "language": "python",
   "name": "python3"
  },
  "language_info": {
   "codemirror_mode": {
    "name": "ipython",
    "version": 3
   },
   "file_extension": ".py",
   "mimetype": "text/x-python",
   "name": "python",
   "nbconvert_exporter": "python",
   "pygments_lexer": "ipython3",
   "version": "3.7.1"
  }
 },
 "nbformat": 4,
 "nbformat_minor": 2
}
